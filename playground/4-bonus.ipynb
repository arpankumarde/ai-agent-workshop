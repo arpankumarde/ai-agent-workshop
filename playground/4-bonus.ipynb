{
 "cells": [
  {
   "cell_type": "code",
   "execution_count": 1,
   "metadata": {},
   "outputs": [],
   "source": [
    "import os\n",
    "from agno.agent import Agent\n",
    "from agno.models.groq import Groq\n",
    "from agno.tools.duckduckgo import DuckDuckGoTools\n",
    "from agno.tools.newspaper4k import Newspaper4kTools"
   ]
  },
  {
   "cell_type": "code",
   "execution_count": 2,
   "metadata": {},
   "outputs": [
    {
     "data": {
      "application/vnd.jupyter.widget-view+json": {
       "model_id": "d9f7b1fc3a684d2bb138958a86b1d8a7",
       "version_major": 2,
       "version_minor": 0
      },
      "text/plain": [
       "Output()"
      ]
     },
     "metadata": {},
     "output_type": "display_data"
    },
    {
     "data": {
      "text/html": [
       "<pre style=\"white-space:pre;overflow-x:auto;line-height:normal;font-family:Menlo,'DejaVu Sans Mono',consolas,'Courier New',monospace\"><span style=\"color: #808000; text-decoration-color: #808000\">WARNING </span> Error reading article from                                                                                \n",
       "         <span style=\"color: #0000ff; text-decoration-color: #0000ff; text-decoration: underline\">https://www.pcworld.com/article/3581113/threats-to-data-privacy-from-the-deep-web.html:</span> Article           \n",
       "         `<span style=\"color: #800080; text-decoration-color: #800080; font-weight: bold\">download</span><span style=\"font-weight: bold\">()</span>` failed with Status code <span style=\"color: #008080; text-decoration-color: #008080; font-weight: bold\">404</span> for url <span style=\"color: #800080; text-decoration-color: #800080; font-style: italic\">None</span> on URL                                              \n",
       "         <span style=\"color: #0000ff; text-decoration-color: #0000ff; text-decoration: underline\">https://www.pcworld.com/article/3581113/threats-to-data-privacy-from-the-deep-web.html</span>                    \n",
       "</pre>\n"
      ],
      "text/plain": [
       "\u001b[33mWARNING \u001b[0m Error reading article from                                                                                \n",
       "         \u001b[4;94mhttps://www.pcworld.com/article/3581113/threats-to-data-privacy-from-the-deep-web.html:\u001b[0m Article           \n",
       "         `\u001b[1;35mdownload\u001b[0m\u001b[1m(\u001b[0m\u001b[1m)\u001b[0m` failed with Status code \u001b[1;36m404\u001b[0m for url \u001b[3;35mNone\u001b[0m on URL                                              \n",
       "         \u001b[4;94mhttps://www.pcworld.com/article/3581113/threats-to-data-privacy-from-the-deep-web.html\u001b[0m                    \n"
      ]
     },
     "metadata": {},
     "output_type": "display_data"
    },
    {
     "data": {
      "text/html": [
       "<pre style=\"white-space:pre;overflow-x:auto;line-height:normal;font-family:Menlo,'DejaVu Sans Mono',consolas,'Courier New',monospace\"><span style=\"color: #808000; text-decoration-color: #808000\">WARNING </span> Error reading article from <span style=\"color: #0000ff; text-decoration-color: #0000ff; text-decoration: underline\">https://www.businessinsider.com/deep-web-privacy-security-2018-11:</span> Article     \n",
       "         `<span style=\"color: #800080; text-decoration-color: #800080; font-weight: bold\">download</span><span style=\"font-weight: bold\">()</span>` failed with Status code <span style=\"color: #008080; text-decoration-color: #008080; font-weight: bold\">404</span> for url <span style=\"color: #800080; text-decoration-color: #800080; font-style: italic\">None</span> on URL                                              \n",
       "         <span style=\"color: #0000ff; text-decoration-color: #0000ff; text-decoration: underline\">https://www.businessinsider.com/deep-web-privacy-security-2018-11</span>                                         \n",
       "</pre>\n"
      ],
      "text/plain": [
       "\u001b[33mWARNING \u001b[0m Error reading article from \u001b[4;94mhttps://www.businessinsider.com/deep-web-privacy-security-2018-11:\u001b[0m Article     \n",
       "         `\u001b[1;35mdownload\u001b[0m\u001b[1m(\u001b[0m\u001b[1m)\u001b[0m` failed with Status code \u001b[1;36m404\u001b[0m for url \u001b[3;35mNone\u001b[0m on URL                                              \n",
       "         \u001b[4;94mhttps://www.businessinsider.com/deep-web-privacy-security-2018-11\u001b[0m                                         \n"
      ]
     },
     "metadata": {},
     "output_type": "display_data"
    },
    {
     "data": {
      "text/html": [
       "<pre style=\"white-space:pre;overflow-x:auto;line-height:normal;font-family:Menlo,'DejaVu Sans Mono',consolas,'Courier New',monospace\"><span style=\"color: #808000; text-decoration-color: #808000\">WARNING </span> Error reading article from <span style=\"color: #0000ff; text-decoration-color: #0000ff; text-decoration: underline\">https://www.tomshardware.com/news/deep-web-data-breaches-stolen-credentials:</span>   \n",
       "         Article `<span style=\"color: #800080; text-decoration-color: #800080; font-weight: bold\">download</span><span style=\"font-weight: bold\">()</span>` failed with Status code <span style=\"color: #008080; text-decoration-color: #008080; font-weight: bold\">404</span> for url <span style=\"color: #800080; text-decoration-color: #800080; font-style: italic\">None</span> on URL                                      \n",
       "         <span style=\"color: #0000ff; text-decoration-color: #0000ff; text-decoration: underline\">https://www.tomshardware.com/news/deep-web-data-breaches-stolen-credentials</span>                               \n",
       "</pre>\n"
      ],
      "text/plain": [
       "\u001b[33mWARNING \u001b[0m Error reading article from \u001b[4;94mhttps://www.tomshardware.com/news/deep-web-data-breaches-stolen-credentials:\u001b[0m   \n",
       "         Article `\u001b[1;35mdownload\u001b[0m\u001b[1m(\u001b[0m\u001b[1m)\u001b[0m` failed with Status code \u001b[1;36m404\u001b[0m for url \u001b[3;35mNone\u001b[0m on URL                                      \n",
       "         \u001b[4;94mhttps://www.tomshardware.com/news/deep-web-data-breaches-stolen-credentials\u001b[0m                               \n"
      ]
     },
     "metadata": {},
     "output_type": "display_data"
    },
    {
     "data": {
      "text/html": [
       "<pre style=\"white-space:pre;overflow-x:auto;line-height:normal;font-family:Menlo,'DejaVu Sans Mono',consolas,'Courier New',monospace\"><span style=\"color: #808000; text-decoration-color: #808000\">WARNING </span> Error reading article from                                                                                \n",
       "         <span style=\"color: #0000ff; text-decoration-color: #0000ff; text-decoration: underline\">https://www.csoonline.com/article/3614445/data-protection-and-privacy-risks-on-the-deep-web.html:</span> Article \n",
       "         `<span style=\"color: #800080; text-decoration-color: #800080; font-weight: bold\">download</span><span style=\"font-weight: bold\">()</span>` failed with Status code <span style=\"color: #008080; text-decoration-color: #008080; font-weight: bold\">404</span> for url <span style=\"color: #800080; text-decoration-color: #800080; font-style: italic\">None</span> on URL                                              \n",
       "         <span style=\"color: #0000ff; text-decoration-color: #0000ff; text-decoration: underline\">https://www.csoonline.com/article/3614445/data-protection-and-privacy-risks-on-the-deep-web.html</span>          \n",
       "</pre>\n"
      ],
      "text/plain": [
       "\u001b[33mWARNING \u001b[0m Error reading article from                                                                                \n",
       "         \u001b[4;94mhttps://www.csoonline.com/article/3614445/data-protection-and-privacy-risks-on-the-deep-web.html:\u001b[0m Article \n",
       "         `\u001b[1;35mdownload\u001b[0m\u001b[1m(\u001b[0m\u001b[1m)\u001b[0m` failed with Status code \u001b[1;36m404\u001b[0m for url \u001b[3;35mNone\u001b[0m on URL                                              \n",
       "         \u001b[4;94mhttps://www.csoonline.com/article/3614445/data-protection-and-privacy-risks-on-the-deep-web.html\u001b[0m          \n"
      ]
     },
     "metadata": {},
     "output_type": "display_data"
    },
    {
     "data": {
      "text/html": [
       "<pre style=\"white-space:pre;overflow-x:auto;line-height:normal;font-family:Menlo,'DejaVu Sans Mono',consolas,'Courier New',monospace\"></pre>\n"
      ],
      "text/plain": []
     },
     "metadata": {},
     "output_type": "display_data"
    }
   ],
   "source": [
    "agent = Agent(\n",
    "    model=Groq(\n",
    "        id=\"llama-3.1-8b-instant\",\n",
    "        api_key=os.getenv(\"GROQ_API_KEY\"),\n",
    "    ),\n",
    "    tools=[DuckDuckGoTools(), Newspaper4kTools()],\n",
    "    description=\"You are a senior NYT researcher writing an article on a topic.\",\n",
    "    instructions=[\n",
    "        \"For a given topic, search for the top 5 links.\",\n",
    "        \"Then read each URL and extract the article text, if a URL isn't available, ignore it.\",\n",
    "        \"Analyse and prepare an NYT worthy article based on the information.\",\n",
    "    ],\n",
    "    markdown=True,\n",
    "    show_tool_calls=True,\n",
    "    add_datetime_to_instructions=True,\n",
    ")\n",
    "agent.print_response(\"Deepseek and Data Privacy\", stream=True)"
   ]
  }
 ],
 "metadata": {
  "kernelspec": {
   "display_name": "venv",
   "language": "python",
   "name": "python3"
  },
  "language_info": {
   "codemirror_mode": {
    "name": "ipython",
    "version": 3
   },
   "file_extension": ".py",
   "mimetype": "text/x-python",
   "name": "python",
   "nbconvert_exporter": "python",
   "pygments_lexer": "ipython3",
   "version": "3.13.0"
  }
 },
 "nbformat": 4,
 "nbformat_minor": 2
}
