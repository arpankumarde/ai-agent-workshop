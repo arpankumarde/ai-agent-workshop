{
 "cells": [
  {
   "cell_type": "code",
   "execution_count": 1,
   "metadata": {},
   "outputs": [],
   "source": [
    "import os\n",
    "from agno.agent import Agent\n",
    "from agno.models.groq import Groq\n",
    "from agno.tools.duckduckgo import DuckDuckGoTools\n",
    "from agno.tools.newspaper4k import Newspaper4kTools"
   ]
  },
  {
   "cell_type": "code",
   "execution_count": null,
   "metadata": {},
   "outputs": [],
   "source": [
    "agent = Agent(\n",
    "    model=Groq(\n",
    "        id=\"llama-3.3-70b-versatile\",\n",
    "        api_key=os.getenv(\"GROQ_API_KEY\"),\n",
    "    ),\n",
    "    tools=[DuckDuckGoTools(), Newspaper4kTools()],\n",
    "    description=\"You are a senior NYT researcher writing an article on a topic.\",\n",
    "    instructions=[\n",
    "        \"For a given topic, search for the top 5 links.\",\n",
    "        \"Then read each URL and extract the article text, if a URL isn't available, ignore it.\",\n",
    "        \"Analyse and prepare an NYT worthy article based on the information.\",\n",
    "    ],\n",
    "    markdown=True,\n",
    "    show_tool_calls=True,\n",
    "    add_datetime_to_instructions=True,\n",
    ")\n",
    "agent.print_response(\"Deepseek and Data Privacy\", stream=True)"
   ]
  },
  {
   "cell_type": "code",
   "execution_count": null,
   "metadata": {},
   "outputs": [],
   "source": []
  }
 ],
 "metadata": {
  "kernelspec": {
   "display_name": ".venv",
   "language": "python",
   "name": "python3"
  },
  "language_info": {
   "codemirror_mode": {
    "name": "ipython",
    "version": 3
   },
   "file_extension": ".py",
   "mimetype": "text/x-python",
   "name": "python",
   "nbconvert_exporter": "python",
   "pygments_lexer": "ipython3",
   "version": "3.12.1"
  }
 },
 "nbformat": 4,
 "nbformat_minor": 2
}
