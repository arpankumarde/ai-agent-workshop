{
 "cells": [
  {
   "cell_type": "code",
   "execution_count": 33,
   "metadata": {},
   "outputs": [],
   "source": [
    "import json\n",
    "import os\n",
    "\n",
    "from openai import OpenAI"
   ]
  },
  {
   "cell_type": "code",
   "execution_count": 34,
   "metadata": {},
   "outputs": [],
   "source": [
    "client = OpenAI(\n",
    "    base_url=\"https://api.groq.com/openai/v1\", api_key=os.getenv(\"GROQ_API_KEY\")\n",
    ")"
   ]
  },
  {
   "cell_type": "code",
   "execution_count": 35,
   "metadata": {},
   "outputs": [],
   "source": [
    "def search_kb(question: str):\n",
    "    \"\"\"\n",
    "    Load the whole knowledge base from the JSON file.\n",
    "    (This is a mock function for demonstration purposes, we don't search)\n",
    "    \"\"\"\n",
    "    with open(\"knowledge.json\", \"r\") as f:\n",
    "        return json.load(f)"
   ]
  },
  {
   "cell_type": "code",
   "execution_count": 36,
   "metadata": {},
   "outputs": [],
   "source": [
    "tools = [\n",
    "    {\n",
    "        \"type\": \"function\",\n",
    "        \"function\": {\n",
    "            \"name\": \"search_kb\",\n",
    "            \"description\": \"Get the answer to the user's question from the knowledge base.\",\n",
    "            \"parameters\": {\n",
    "                \"type\": \"object\",\n",
    "                \"properties\": {\n",
    "                    \"question\": {\"type\": \"string\"},\n",
    "                },\n",
    "                \"required\": [\"question\"],\n",
    "                \"additionalProperties\": False,\n",
    "            },\n",
    "            \"strict\": True,\n",
    "        },\n",
    "    }\n",
    "]"
   ]
  },
  {
   "cell_type": "code",
   "execution_count": 37,
   "metadata": {},
   "outputs": [],
   "source": [
    "system_prompt = \"You are a helpful assistant that answers questions from the knowledge base about our e-commerce store.\"\n",
    "\n",
    "messages = [\n",
    "    {\"role\": \"system\", \"content\": system_prompt},\n",
    "    {\"role\": \"user\", \"content\": \"What is the return policy?\"},\n",
    "]"
   ]
  },
  {
   "cell_type": "code",
   "execution_count": 38,
   "metadata": {},
   "outputs": [],
   "source": [
    "completion = client.chat.completions.create(\n",
    "    model=\"llama-3.1-8b-instant\",\n",
    "    messages=messages,\n",
    "    tools=tools,\n",
    ")"
   ]
  },
  {
   "cell_type": "code",
   "execution_count": 39,
   "metadata": {},
   "outputs": [
    {
     "data": {
      "text/plain": [
       "{'id': 'chatcmpl-94b27411-a8d5-4628-bcaa-c3cbc11a28bb',\n",
       " 'choices': [{'finish_reason': 'tool_calls',\n",
       "   'index': 0,\n",
       "   'logprobs': None,\n",
       "   'message': {'content': None,\n",
       "    'refusal': None,\n",
       "    'role': 'assistant',\n",
       "    'audio': None,\n",
       "    'function_call': None,\n",
       "    'tool_calls': [{'id': 'call_87gw',\n",
       "      'function': {'arguments': '{\"question\": \"What is the return policy?\"}',\n",
       "       'name': 'search_kb'},\n",
       "      'type': 'function'}]}}],\n",
       " 'created': 1739199565,\n",
       " 'model': 'llama-3.1-8b-instant',\n",
       " 'object': 'chat.completion',\n",
       " 'service_tier': None,\n",
       " 'system_fingerprint': 'fp_9cb648b966',\n",
       " 'usage': {'completion_tokens': 18,\n",
       "  'prompt_tokens': 253,\n",
       "  'total_tokens': 271,\n",
       "  'completion_tokens_details': None,\n",
       "  'prompt_tokens_details': None,\n",
       "  'queue_time': 0.02019535,\n",
       "  'prompt_time': 0.017110407,\n",
       "  'completion_time': 0.024,\n",
       "  'total_time': 0.041110407},\n",
       " 'x_groq': {'id': 'req_01jkr5ykfzfrtbd4mcd9hfhgha'}}"
      ]
     },
     "execution_count": 39,
     "metadata": {},
     "output_type": "execute_result"
    }
   ],
   "source": [
    "completion.model_dump()"
   ]
  },
  {
   "cell_type": "code",
   "execution_count": 40,
   "metadata": {},
   "outputs": [],
   "source": [
    "def call_function(name, args):\n",
    "    if name == \"search_kb\":\n",
    "        return search_kb(**args)\n",
    "\n",
    "\n",
    "def checkforToolCalls(completion):\n",
    "    if completion.choices[0].message.tool_calls:\n",
    "        print(\"Tool call found\")\n",
    "    for tool_call in completion.choices[0].message.tool_calls:\n",
    "        name = tool_call.function.name\n",
    "        args = json.loads(tool_call.function.arguments)\n",
    "        messages.append(completion.choices[0].message)\n",
    "\n",
    "        result = call_function(name, args)\n",
    "        messages.append(\n",
    "            {\n",
    "                \"role\": \"tool\",\n",
    "                \"tool_call_id\": tool_call.id,\n",
    "                \"content\": json.dumps(result),\n",
    "            }\n",
    "        )"
   ]
  },
  {
   "cell_type": "code",
   "execution_count": 41,
   "metadata": {},
   "outputs": [
    {
     "name": "stdout",
     "output_type": "stream",
     "text": [
      "Tool call found\n"
     ]
    }
   ],
   "source": [
    "checkforToolCalls(completion)"
   ]
  },
  {
   "cell_type": "code",
   "execution_count": 42,
   "metadata": {},
   "outputs": [],
   "source": [
    "completion_2 = client.chat.completions.create(\n",
    "    model=\"llama-3.1-8b-instant\", messages=messages, tools=tools\n",
    ")"
   ]
  },
  {
   "cell_type": "code",
   "execution_count": 43,
   "metadata": {},
   "outputs": [
    {
     "data": {
      "text/plain": [
       "'In order to meet our return policy, all returns need to be made within a 30-day purchasing window while including original receipts, and a refund should process within 5-7 days after.'"
      ]
     },
     "execution_count": 43,
     "metadata": {},
     "output_type": "execute_result"
    }
   ],
   "source": [
    "final_response = completion_2.choices[0].message.content\n",
    "final_response"
   ]
  },
  {
   "cell_type": "code",
   "execution_count": 44,
   "metadata": {},
   "outputs": [],
   "source": [
    "# No tools available\n",
    "\n",
    "# messages2 = [\n",
    "#     {\"role\": \"system\", \"content\": system_prompt},\n",
    "#     {\"role\": \"user\", \"content\": \"What is the weather in Tokyo?\"},\n",
    "# ]"
   ]
  },
  {
   "cell_type": "code",
   "execution_count": 45,
   "metadata": {},
   "outputs": [],
   "source": [
    "# completion_3 = client.chat.completions.create(\n",
    "#     model=\"llama-3.1-8b-instant\",\n",
    "#     messages=messages2,\n",
    "#     tools=tools,\n",
    "# )\n",
    "\n",
    "# completion_3.choices[0].message.content"
   ]
  },
  {
   "cell_type": "code",
   "execution_count": 46,
   "metadata": {},
   "outputs": [],
   "source": [
    "messages.append(completion_2.choices[0].message)"
   ]
  },
  {
   "cell_type": "code",
   "execution_count": 47,
   "metadata": {},
   "outputs": [
    {
     "data": {
      "text/plain": [
       "[{'role': 'system',\n",
       "  'content': 'You are a helpful assistant that answers questions from the knowledge base about our e-commerce store.'},\n",
       " {'role': 'user', 'content': 'What is the return policy?'},\n",
       " ChatCompletionMessage(content=None, refusal=None, role='assistant', audio=None, function_call=None, tool_calls=[ChatCompletionMessageToolCall(id='call_87gw', function=Function(arguments='{\"question\": \"What is the return policy?\"}', name='search_kb'), type='function')]),\n",
       " {'role': 'tool',\n",
       "  'tool_call_id': 'call_87gw',\n",
       "  'content': '{\"records\": [{\"id\": 1, \"question\": \"What is the return policy?\", \"answer\": \"Items can be returned within 30 days of purchase with original receipt. Refunds will be processed to the original payment method within 5-7 business days.\"}, {\"id\": 2, \"question\": \"Do you ship internationally?\", \"answer\": \"Yes, we ship to over 50 countries worldwide. International shipping typically takes 7-14 business days and costs vary by destination. Please note that customs fees may apply.\"}, {\"id\": 3, \"question\": \"What payment methods do you accept?\", \"answer\": \"We accept Visa, Mastercard, American Express, PayPal, and Apple Pay. UPI Not ALlowed. All payments are processed securely through our encrypted payment system.\"}]}'},\n",
       " ChatCompletionMessage(content='In order to meet our return policy, all returns need to be made within a 30-day purchasing window while including original receipts, and a refund should process within 5-7 days after.', refusal=None, role='assistant', audio=None, function_call=None, tool_calls=None)]"
      ]
     },
     "execution_count": 47,
     "metadata": {},
     "output_type": "execute_result"
    }
   ],
   "source": [
    "messages"
   ]
  },
  {
   "cell_type": "code",
   "execution_count": 48,
   "metadata": {},
   "outputs": [],
   "source": [
    "messages.append({\"role\": \"user\", \"content\": \"Do you accept UPI as payment method?\"})"
   ]
  },
  {
   "cell_type": "code",
   "execution_count": 49,
   "metadata": {},
   "outputs": [],
   "source": [
    "completion_3 = client.chat.completions.create(\n",
    "    model=\"llama-3.1-8b-instant\",\n",
    "    messages=messages,\n",
    "    tools=tools,\n",
    ")"
   ]
  },
  {
   "cell_type": "code",
   "execution_count": 50,
   "metadata": {},
   "outputs": [
    {
     "data": {
      "text/plain": [
       "{'id': 'chatcmpl-c3cdc0e5-135f-4eee-b28a-5f07edd802f4',\n",
       " 'choices': [{'finish_reason': 'tool_calls',\n",
       "   'index': 0,\n",
       "   'logprobs': None,\n",
       "   'message': {'content': None,\n",
       "    'refusal': None,\n",
       "    'role': 'assistant',\n",
       "    'audio': None,\n",
       "    'function_call': None,\n",
       "    'tool_calls': [{'id': 'call_k7cc',\n",
       "      'function': {'arguments': '{\"question\": \"Do you accept UPI as payment method?\"}',\n",
       "       'name': 'search_kb'},\n",
       "      'type': 'function'}]}}],\n",
       " 'created': 1739199566,\n",
       " 'model': 'llama-3.1-8b-instant',\n",
       " 'object': 'chat.completion',\n",
       " 'service_tier': None,\n",
       " 'system_fingerprint': 'fp_9cb648b966',\n",
       " 'usage': {'completion_tokens': 21,\n",
       "  'prompt_tokens': 507,\n",
       "  'total_tokens': 528,\n",
       "  'completion_tokens_details': None,\n",
       "  'prompt_tokens_details': None,\n",
       "  'queue_time': 0.021240389999999998,\n",
       "  'prompt_time': 0.033050429,\n",
       "  'completion_time': 0.028,\n",
       "  'total_time': 0.061050429},\n",
       " 'x_groq': {'id': 'req_01jkr5ymm1ffb9k4n8e5gfdqsj'}}"
      ]
     },
     "execution_count": 50,
     "metadata": {},
     "output_type": "execute_result"
    }
   ],
   "source": [
    "completion_3.model_dump()"
   ]
  },
  {
   "cell_type": "code",
   "execution_count": 51,
   "metadata": {},
   "outputs": [
    {
     "name": "stdout",
     "output_type": "stream",
     "text": [
      "Tool call found\n"
     ]
    }
   ],
   "source": [
    "checkforToolCalls(completion_3)"
   ]
  },
  {
   "cell_type": "code",
   "execution_count": 52,
   "metadata": {},
   "outputs": [],
   "source": [
    "completion_4 = client.chat.completions.create(\n",
    "    model=\"llama-3.1-8b-instant\", messages=messages, tools=tools\n",
    ")"
   ]
  },
  {
   "cell_type": "code",
   "execution_count": 53,
   "metadata": {},
   "outputs": [
    {
     "data": {
      "text/plain": [
       "[{'role': 'system',\n",
       "  'content': 'You are a helpful assistant that answers questions from the knowledge base about our e-commerce store.'},\n",
       " {'role': 'user', 'content': 'What is the return policy?'},\n",
       " ChatCompletionMessage(content=None, refusal=None, role='assistant', audio=None, function_call=None, tool_calls=[ChatCompletionMessageToolCall(id='call_87gw', function=Function(arguments='{\"question\": \"What is the return policy?\"}', name='search_kb'), type='function')]),\n",
       " {'role': 'tool',\n",
       "  'tool_call_id': 'call_87gw',\n",
       "  'content': '{\"records\": [{\"id\": 1, \"question\": \"What is the return policy?\", \"answer\": \"Items can be returned within 30 days of purchase with original receipt. Refunds will be processed to the original payment method within 5-7 business days.\"}, {\"id\": 2, \"question\": \"Do you ship internationally?\", \"answer\": \"Yes, we ship to over 50 countries worldwide. International shipping typically takes 7-14 business days and costs vary by destination. Please note that customs fees may apply.\"}, {\"id\": 3, \"question\": \"What payment methods do you accept?\", \"answer\": \"We accept Visa, Mastercard, American Express, PayPal, and Apple Pay. UPI Not ALlowed. All payments are processed securely through our encrypted payment system.\"}]}'},\n",
       " ChatCompletionMessage(content='In order to meet our return policy, all returns need to be made within a 30-day purchasing window while including original receipts, and a refund should process within 5-7 days after.', refusal=None, role='assistant', audio=None, function_call=None, tool_calls=None),\n",
       " {'role': 'user', 'content': 'Do you accept UPI as payment method?'},\n",
       " ChatCompletionMessage(content=None, refusal=None, role='assistant', audio=None, function_call=None, tool_calls=[ChatCompletionMessageToolCall(id='call_k7cc', function=Function(arguments='{\"question\": \"Do you accept UPI as payment method?\"}', name='search_kb'), type='function')]),\n",
       " {'role': 'tool',\n",
       "  'tool_call_id': 'call_k7cc',\n",
       "  'content': '{\"records\": [{\"id\": 1, \"question\": \"What is the return policy?\", \"answer\": \"Items can be returned within 30 days of purchase with original receipt. Refunds will be processed to the original payment method within 5-7 business days.\"}, {\"id\": 2, \"question\": \"Do you ship internationally?\", \"answer\": \"Yes, we ship to over 50 countries worldwide. International shipping typically takes 7-14 business days and costs vary by destination. Please note that customs fees may apply.\"}, {\"id\": 3, \"question\": \"What payment methods do you accept?\", \"answer\": \"We accept Visa, Mastercard, American Express, PayPal, and Apple Pay. UPI Not ALlowed. All payments are processed securely through our encrypted payment system.\"}]}'}]"
      ]
     },
     "execution_count": 53,
     "metadata": {},
     "output_type": "execute_result"
    }
   ],
   "source": [
    "messages"
   ]
  },
  {
   "cell_type": "code",
   "execution_count": 55,
   "metadata": {},
   "outputs": [
    {
     "data": {
      "text/plain": [
       "'No, we do not accept UPI as a payment method.'"
      ]
     },
     "execution_count": 55,
     "metadata": {},
     "output_type": "execute_result"
    }
   ],
   "source": [
    "completion_4.choices[0].message.content"
   ]
  },
  {
   "cell_type": "code",
   "execution_count": null,
   "metadata": {},
   "outputs": [],
   "source": []
  }
 ],
 "metadata": {
  "kernelspec": {
   "display_name": "venv",
   "language": "python",
   "name": "python3"
  },
  "language_info": {
   "codemirror_mode": {
    "name": "ipython",
    "version": 3
   },
   "file_extension": ".py",
   "mimetype": "text/x-python",
   "name": "python",
   "nbconvert_exporter": "python",
   "pygments_lexer": "ipython3",
   "version": "3.13.0"
  }
 },
 "nbformat": 4,
 "nbformat_minor": 2
}
