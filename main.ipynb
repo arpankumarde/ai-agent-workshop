{
 "cells": [
  {
   "cell_type": "code",
   "execution_count": null,
   "metadata": {},
   "outputs": [],
   "source": [
    "from agno.agent import Agent\n",
    "from agno.models.groq import Groq\n",
    "from agno.tools.duckduckgo import DuckDuckGoTools"
   ]
  },
  {
   "cell_type": "code",
   "execution_count": null,
   "metadata": {},
   "outputs": [],
   "source": [
    "agent = Agent(\n",
    "    model=Groq(\n",
    "        id=\"llama3-8b-8192\",\n",
    "        api_key=\"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\",\n",
    "    ),\n",
    "    tools=[\n",
    "        DuckDuckGoTools(),\n",
    "    ],\n",
    "    description=\"You are an weather agent who accurately answers to weather queries after surfing the internet.\",\n",
    "    show_tool_calls=True,\n",
    "    markdown=True,\n",
    ")"
   ]
  },
  {
   "cell_type": "code",
   "execution_count": null,
   "metadata": {},
   "outputs": [],
   "source": [
    "agent.print_response(\n",
    "    \"Tell me about todays weather in Berlin\",\n",
    "    stream=True,\n",
    "    markdown=True,\n",
    ")"
   ]
  },
  {
   "cell_type": "code",
   "execution_count": null,
   "metadata": {},
   "outputs": [],
   "source": [
    "agent.print_response(\n",
    "    \"Lowest temperature in Berlin today\",\n",
    "    stream=True,\n",
    "    markdown=True,\n",
    ")"
   ]
  }
 ],
 "metadata": {
  "kernelspec": {
   "display_name": "venv",
   "language": "python",
   "name": "python3"
  },
  "language_info": {
   "codemirror_mode": {
    "name": "ipython",
    "version": 3
   },
   "file_extension": ".py",
   "mimetype": "text/x-python",
   "name": "python",
   "nbconvert_exporter": "python",
   "pygments_lexer": "ipython3",
   "version": "3.13.0"
  }
 },
 "nbformat": 4,
 "nbformat_minor": 2
}
